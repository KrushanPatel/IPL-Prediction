{
 "cells": [
  {
   "cell_type": "code",
   "execution_count": 2,
   "metadata": {
    "collapsed": true,
    "pycharm": {
     "name": "#%%\n"
    }
   },
   "outputs": [],
   "source": [
    "import numpy as np\n",
    "import pandas as pd\n",
    "import matplotlib.pyplot as plt\n",
    "import seaborn as sns"
   ]
  },
  {
   "cell_type": "code",
   "execution_count": 3,
   "outputs": [],
   "source": [
    "features = pd.read_csv(r'C:\\Users\\Admin\\OneDrive\\Desktop\\Data Science Projects\\IPL\\IPL Ball-by-Ball 2008-2020.csv\\IPL Ball-by-Ball 2008-2020.csv',nrows = 5000)"
   ],
   "metadata": {
    "collapsed": false,
    "pycharm": {
     "name": "#%%\n"
    }
   }
  },
  {
   "cell_type": "code",
   "execution_count": 4,
   "outputs": [
    {
     "data": {
      "text/plain": "          id  inning  over  ball       batsman   non_striker           bowler  \\\n0     335982       1     6     5    RT Ponting   BB McCullum        AA Noffke   \n1     335982       1     6     6   BB McCullum    RT Ponting        AA Noffke   \n2     335982       1     7     1   BB McCullum    RT Ponting           Z Khan   \n3     335982       1     7     2   BB McCullum    RT Ponting           Z Khan   \n4     335982       1     7     3    RT Ponting   BB McCullum           Z Khan   \n...      ...     ...   ...   ...           ...           ...              ...   \n4995  336003       1     7     3      SE Marsh  Yuvraj Singh         AB Dinda   \n4996  336003       1     7     4      SE Marsh  Yuvraj Singh         AB Dinda   \n4997  336003       1     7     5      SE Marsh  Yuvraj Singh         AB Dinda   \n4998  336003       1     7     6      SE Marsh  Yuvraj Singh         AB Dinda   \n4999  336003       1     8     1  Yuvraj Singh      SE Marsh  Mohammad Hafeez   \n\n      batsman_runs  extra_runs  total_runs  non_boundary  is_wicket  \\\n0                1           0           1             0          0   \n1                1           0           1             0          0   \n2                0           0           0             0          0   \n3                1           0           1             0          0   \n4                1           0           1             0          0   \n...            ...         ...         ...           ...        ...   \n4995             0           0           0             0          0   \n4996             6           0           6             0          0   \n4997             0           0           0             0          0   \n4998             4           0           4             0          0   \n4999             0           0           0             0          0   \n\n     dismissal_kind player_dismissed fielder extras_type  \\\n0               NaN              NaN     NaN         NaN   \n1               NaN              NaN     NaN         NaN   \n2               NaN              NaN     NaN         NaN   \n3               NaN              NaN     NaN         NaN   \n4               NaN              NaN     NaN         NaN   \n...             ...              ...     ...         ...   \n4995            NaN              NaN     NaN         NaN   \n4996            NaN              NaN     NaN         NaN   \n4997            NaN              NaN     NaN         NaN   \n4998            NaN              NaN     NaN         NaN   \n4999            NaN              NaN     NaN         NaN   \n\n               batting_team                 bowling_team  \n0     Kolkata Knight Riders  Royal Challengers Bangalore  \n1     Kolkata Knight Riders  Royal Challengers Bangalore  \n2     Kolkata Knight Riders  Royal Challengers Bangalore  \n3     Kolkata Knight Riders  Royal Challengers Bangalore  \n4     Kolkata Knight Riders  Royal Challengers Bangalore  \n...                     ...                          ...  \n4995        Kings XI Punjab        Kolkata Knight Riders  \n4996        Kings XI Punjab        Kolkata Knight Riders  \n4997        Kings XI Punjab        Kolkata Knight Riders  \n4998        Kings XI Punjab        Kolkata Knight Riders  \n4999        Kings XI Punjab        Kolkata Knight Riders  \n\n[5000 rows x 18 columns]",
      "text/html": "<div>\n<style scoped>\n    .dataframe tbody tr th:only-of-type {\n        vertical-align: middle;\n    }\n\n    .dataframe tbody tr th {\n        vertical-align: top;\n    }\n\n    .dataframe thead th {\n        text-align: right;\n    }\n</style>\n<table border=\"1\" class=\"dataframe\">\n  <thead>\n    <tr style=\"text-align: right;\">\n      <th></th>\n      <th>id</th>\n      <th>inning</th>\n      <th>over</th>\n      <th>ball</th>\n      <th>batsman</th>\n      <th>non_striker</th>\n      <th>bowler</th>\n      <th>batsman_runs</th>\n      <th>extra_runs</th>\n      <th>total_runs</th>\n      <th>non_boundary</th>\n      <th>is_wicket</th>\n      <th>dismissal_kind</th>\n      <th>player_dismissed</th>\n      <th>fielder</th>\n      <th>extras_type</th>\n      <th>batting_team</th>\n      <th>bowling_team</th>\n    </tr>\n  </thead>\n  <tbody>\n    <tr>\n      <th>0</th>\n      <td>335982</td>\n      <td>1</td>\n      <td>6</td>\n      <td>5</td>\n      <td>RT Ponting</td>\n      <td>BB McCullum</td>\n      <td>AA Noffke</td>\n      <td>1</td>\n      <td>0</td>\n      <td>1</td>\n      <td>0</td>\n      <td>0</td>\n      <td>NaN</td>\n      <td>NaN</td>\n      <td>NaN</td>\n      <td>NaN</td>\n      <td>Kolkata Knight Riders</td>\n      <td>Royal Challengers Bangalore</td>\n    </tr>\n    <tr>\n      <th>1</th>\n      <td>335982</td>\n      <td>1</td>\n      <td>6</td>\n      <td>6</td>\n      <td>BB McCullum</td>\n      <td>RT Ponting</td>\n      <td>AA Noffke</td>\n      <td>1</td>\n      <td>0</td>\n      <td>1</td>\n      <td>0</td>\n      <td>0</td>\n      <td>NaN</td>\n      <td>NaN</td>\n      <td>NaN</td>\n      <td>NaN</td>\n      <td>Kolkata Knight Riders</td>\n      <td>Royal Challengers Bangalore</td>\n    </tr>\n    <tr>\n      <th>2</th>\n      <td>335982</td>\n      <td>1</td>\n      <td>7</td>\n      <td>1</td>\n      <td>BB McCullum</td>\n      <td>RT Ponting</td>\n      <td>Z Khan</td>\n      <td>0</td>\n      <td>0</td>\n      <td>0</td>\n      <td>0</td>\n      <td>0</td>\n      <td>NaN</td>\n      <td>NaN</td>\n      <td>NaN</td>\n      <td>NaN</td>\n      <td>Kolkata Knight Riders</td>\n      <td>Royal Challengers Bangalore</td>\n    </tr>\n    <tr>\n      <th>3</th>\n      <td>335982</td>\n      <td>1</td>\n      <td>7</td>\n      <td>2</td>\n      <td>BB McCullum</td>\n      <td>RT Ponting</td>\n      <td>Z Khan</td>\n      <td>1</td>\n      <td>0</td>\n      <td>1</td>\n      <td>0</td>\n      <td>0</td>\n      <td>NaN</td>\n      <td>NaN</td>\n      <td>NaN</td>\n      <td>NaN</td>\n      <td>Kolkata Knight Riders</td>\n      <td>Royal Challengers Bangalore</td>\n    </tr>\n    <tr>\n      <th>4</th>\n      <td>335982</td>\n      <td>1</td>\n      <td>7</td>\n      <td>3</td>\n      <td>RT Ponting</td>\n      <td>BB McCullum</td>\n      <td>Z Khan</td>\n      <td>1</td>\n      <td>0</td>\n      <td>1</td>\n      <td>0</td>\n      <td>0</td>\n      <td>NaN</td>\n      <td>NaN</td>\n      <td>NaN</td>\n      <td>NaN</td>\n      <td>Kolkata Knight Riders</td>\n      <td>Royal Challengers Bangalore</td>\n    </tr>\n    <tr>\n      <th>...</th>\n      <td>...</td>\n      <td>...</td>\n      <td>...</td>\n      <td>...</td>\n      <td>...</td>\n      <td>...</td>\n      <td>...</td>\n      <td>...</td>\n      <td>...</td>\n      <td>...</td>\n      <td>...</td>\n      <td>...</td>\n      <td>...</td>\n      <td>...</td>\n      <td>...</td>\n      <td>...</td>\n      <td>...</td>\n      <td>...</td>\n    </tr>\n    <tr>\n      <th>4995</th>\n      <td>336003</td>\n      <td>1</td>\n      <td>7</td>\n      <td>3</td>\n      <td>SE Marsh</td>\n      <td>Yuvraj Singh</td>\n      <td>AB Dinda</td>\n      <td>0</td>\n      <td>0</td>\n      <td>0</td>\n      <td>0</td>\n      <td>0</td>\n      <td>NaN</td>\n      <td>NaN</td>\n      <td>NaN</td>\n      <td>NaN</td>\n      <td>Kings XI Punjab</td>\n      <td>Kolkata Knight Riders</td>\n    </tr>\n    <tr>\n      <th>4996</th>\n      <td>336003</td>\n      <td>1</td>\n      <td>7</td>\n      <td>4</td>\n      <td>SE Marsh</td>\n      <td>Yuvraj Singh</td>\n      <td>AB Dinda</td>\n      <td>6</td>\n      <td>0</td>\n      <td>6</td>\n      <td>0</td>\n      <td>0</td>\n      <td>NaN</td>\n      <td>NaN</td>\n      <td>NaN</td>\n      <td>NaN</td>\n      <td>Kings XI Punjab</td>\n      <td>Kolkata Knight Riders</td>\n    </tr>\n    <tr>\n      <th>4997</th>\n      <td>336003</td>\n      <td>1</td>\n      <td>7</td>\n      <td>5</td>\n      <td>SE Marsh</td>\n      <td>Yuvraj Singh</td>\n      <td>AB Dinda</td>\n      <td>0</td>\n      <td>0</td>\n      <td>0</td>\n      <td>0</td>\n      <td>0</td>\n      <td>NaN</td>\n      <td>NaN</td>\n      <td>NaN</td>\n      <td>NaN</td>\n      <td>Kings XI Punjab</td>\n      <td>Kolkata Knight Riders</td>\n    </tr>\n    <tr>\n      <th>4998</th>\n      <td>336003</td>\n      <td>1</td>\n      <td>7</td>\n      <td>6</td>\n      <td>SE Marsh</td>\n      <td>Yuvraj Singh</td>\n      <td>AB Dinda</td>\n      <td>4</td>\n      <td>0</td>\n      <td>4</td>\n      <td>0</td>\n      <td>0</td>\n      <td>NaN</td>\n      <td>NaN</td>\n      <td>NaN</td>\n      <td>NaN</td>\n      <td>Kings XI Punjab</td>\n      <td>Kolkata Knight Riders</td>\n    </tr>\n    <tr>\n      <th>4999</th>\n      <td>336003</td>\n      <td>1</td>\n      <td>8</td>\n      <td>1</td>\n      <td>Yuvraj Singh</td>\n      <td>SE Marsh</td>\n      <td>Mohammad Hafeez</td>\n      <td>0</td>\n      <td>0</td>\n      <td>0</td>\n      <td>0</td>\n      <td>0</td>\n      <td>NaN</td>\n      <td>NaN</td>\n      <td>NaN</td>\n      <td>NaN</td>\n      <td>Kings XI Punjab</td>\n      <td>Kolkata Knight Riders</td>\n    </tr>\n  </tbody>\n</table>\n<p>5000 rows × 18 columns</p>\n</div>"
     },
     "execution_count": 4,
     "metadata": {},
     "output_type": "execute_result"
    }
   ],
   "source": [
    "features"
   ],
   "metadata": {
    "collapsed": false,
    "pycharm": {
     "name": "#%%\n"
    }
   }
  },
  {
   "cell_type": "code",
   "execution_count": 5,
   "outputs": [
    {
     "data": {
      "text/plain": "               total_runs  batsman_runs\nid     inning                          \n335982 1              222           205\n       2               82            63\n335983 1              240           234\n       2              207           196\n335984 1              129           122",
      "text/html": "<div>\n<style scoped>\n    .dataframe tbody tr th:only-of-type {\n        vertical-align: middle;\n    }\n\n    .dataframe tbody tr th {\n        vertical-align: top;\n    }\n\n    .dataframe thead th {\n        text-align: right;\n    }\n</style>\n<table border=\"1\" class=\"dataframe\">\n  <thead>\n    <tr style=\"text-align: right;\">\n      <th></th>\n      <th></th>\n      <th>total_runs</th>\n      <th>batsman_runs</th>\n    </tr>\n    <tr>\n      <th>id</th>\n      <th>inning</th>\n      <th></th>\n      <th></th>\n    </tr>\n  </thead>\n  <tbody>\n    <tr>\n      <th rowspan=\"2\" valign=\"top\">335982</th>\n      <th>1</th>\n      <td>222</td>\n      <td>205</td>\n    </tr>\n    <tr>\n      <th>2</th>\n      <td>82</td>\n      <td>63</td>\n    </tr>\n    <tr>\n      <th rowspan=\"2\" valign=\"top\">335983</th>\n      <th>1</th>\n      <td>240</td>\n      <td>234</td>\n    </tr>\n    <tr>\n      <th>2</th>\n      <td>207</td>\n      <td>196</td>\n    </tr>\n    <tr>\n      <th>335984</th>\n      <th>1</th>\n      <td>129</td>\n      <td>122</td>\n    </tr>\n  </tbody>\n</table>\n</div>"
     },
     "execution_count": 5,
     "metadata": {},
     "output_type": "execute_result"
    }
   ],
   "source": [
    "total_score = features.groupby(['id','inning']).sum()[['total_runs','batsman_runs']]\n",
    "total_score.head()\n"
   ],
   "metadata": {
    "collapsed": false,
    "pycharm": {
     "name": "#%%\n"
    }
   }
  },
  {
   "cell_type": "code",
   "execution_count": 6,
   "outputs": [
    {
     "data": {
      "text/plain": "        id  inning  total_runs\n0   335982       1         222\n1   335982       2          82\n2   335983       1         240\n3   335983       2         207\n4   335984       1         129\n5   335984       2         132\n6   335985       1         165\n7   335985       2         166\n8   335986       1         110\n9   335986       2         112\n10  335987       1         166\n11  335987       2         168\n12  335988       1         142\n13  335988       2         143\n14  335989       1         208\n15  335989       2         202\n16  335990       1         214\n17  335990       2         217\n18  335991       1         182\n19  335991       2         116\n20  335992       1         135\n21  335992       2         138\n22  335993       1         147\n23  335993       2         152\n24  335994       1         154\n25  335994       2         155\n26  335995       1         158\n27  335995       2         162\n28  335996       1         178\n29  335996       2         165\n30  335997       1         137\n31  335997       2         138\n32  335998       1         191\n33  335998       2         181\n34  335999       1         164\n35  335999       2         167\n36  336000       1         196\n37  336000       2         151\n38  336001       1         169\n39  336001       2         172\n40  336002       1         165\n41  336002       2         171\n42  336003       1          11",
      "text/html": "<div>\n<style scoped>\n    .dataframe tbody tr th:only-of-type {\n        vertical-align: middle;\n    }\n\n    .dataframe tbody tr th {\n        vertical-align: top;\n    }\n\n    .dataframe thead th {\n        text-align: right;\n    }\n</style>\n<table border=\"1\" class=\"dataframe\">\n  <thead>\n    <tr style=\"text-align: right;\">\n      <th></th>\n      <th>id</th>\n      <th>inning</th>\n      <th>total_runs</th>\n    </tr>\n  </thead>\n  <tbody>\n    <tr>\n      <th>0</th>\n      <td>335982</td>\n      <td>1</td>\n      <td>222</td>\n    </tr>\n    <tr>\n      <th>1</th>\n      <td>335982</td>\n      <td>2</td>\n      <td>82</td>\n    </tr>\n    <tr>\n      <th>2</th>\n      <td>335983</td>\n      <td>1</td>\n      <td>240</td>\n    </tr>\n    <tr>\n      <th>3</th>\n      <td>335983</td>\n      <td>2</td>\n      <td>207</td>\n    </tr>\n    <tr>\n      <th>4</th>\n      <td>335984</td>\n      <td>1</td>\n      <td>129</td>\n    </tr>\n    <tr>\n      <th>5</th>\n      <td>335984</td>\n      <td>2</td>\n      <td>132</td>\n    </tr>\n    <tr>\n      <th>6</th>\n      <td>335985</td>\n      <td>1</td>\n      <td>165</td>\n    </tr>\n    <tr>\n      <th>7</th>\n      <td>335985</td>\n      <td>2</td>\n      <td>166</td>\n    </tr>\n    <tr>\n      <th>8</th>\n      <td>335986</td>\n      <td>1</td>\n      <td>110</td>\n    </tr>\n    <tr>\n      <th>9</th>\n      <td>335986</td>\n      <td>2</td>\n      <td>112</td>\n    </tr>\n    <tr>\n      <th>10</th>\n      <td>335987</td>\n      <td>1</td>\n      <td>166</td>\n    </tr>\n    <tr>\n      <th>11</th>\n      <td>335987</td>\n      <td>2</td>\n      <td>168</td>\n    </tr>\n    <tr>\n      <th>12</th>\n      <td>335988</td>\n      <td>1</td>\n      <td>142</td>\n    </tr>\n    <tr>\n      <th>13</th>\n      <td>335988</td>\n      <td>2</td>\n      <td>143</td>\n    </tr>\n    <tr>\n      <th>14</th>\n      <td>335989</td>\n      <td>1</td>\n      <td>208</td>\n    </tr>\n    <tr>\n      <th>15</th>\n      <td>335989</td>\n      <td>2</td>\n      <td>202</td>\n    </tr>\n    <tr>\n      <th>16</th>\n      <td>335990</td>\n      <td>1</td>\n      <td>214</td>\n    </tr>\n    <tr>\n      <th>17</th>\n      <td>335990</td>\n      <td>2</td>\n      <td>217</td>\n    </tr>\n    <tr>\n      <th>18</th>\n      <td>335991</td>\n      <td>1</td>\n      <td>182</td>\n    </tr>\n    <tr>\n      <th>19</th>\n      <td>335991</td>\n      <td>2</td>\n      <td>116</td>\n    </tr>\n    <tr>\n      <th>20</th>\n      <td>335992</td>\n      <td>1</td>\n      <td>135</td>\n    </tr>\n    <tr>\n      <th>21</th>\n      <td>335992</td>\n      <td>2</td>\n      <td>138</td>\n    </tr>\n    <tr>\n      <th>22</th>\n      <td>335993</td>\n      <td>1</td>\n      <td>147</td>\n    </tr>\n    <tr>\n      <th>23</th>\n      <td>335993</td>\n      <td>2</td>\n      <td>152</td>\n    </tr>\n    <tr>\n      <th>24</th>\n      <td>335994</td>\n      <td>1</td>\n      <td>154</td>\n    </tr>\n    <tr>\n      <th>25</th>\n      <td>335994</td>\n      <td>2</td>\n      <td>155</td>\n    </tr>\n    <tr>\n      <th>26</th>\n      <td>335995</td>\n      <td>1</td>\n      <td>158</td>\n    </tr>\n    <tr>\n      <th>27</th>\n      <td>335995</td>\n      <td>2</td>\n      <td>162</td>\n    </tr>\n    <tr>\n      <th>28</th>\n      <td>335996</td>\n      <td>1</td>\n      <td>178</td>\n    </tr>\n    <tr>\n      <th>29</th>\n      <td>335996</td>\n      <td>2</td>\n      <td>165</td>\n    </tr>\n    <tr>\n      <th>30</th>\n      <td>335997</td>\n      <td>1</td>\n      <td>137</td>\n    </tr>\n    <tr>\n      <th>31</th>\n      <td>335997</td>\n      <td>2</td>\n      <td>138</td>\n    </tr>\n    <tr>\n      <th>32</th>\n      <td>335998</td>\n      <td>1</td>\n      <td>191</td>\n    </tr>\n    <tr>\n      <th>33</th>\n      <td>335998</td>\n      <td>2</td>\n      <td>181</td>\n    </tr>\n    <tr>\n      <th>34</th>\n      <td>335999</td>\n      <td>1</td>\n      <td>164</td>\n    </tr>\n    <tr>\n      <th>35</th>\n      <td>335999</td>\n      <td>2</td>\n      <td>167</td>\n    </tr>\n    <tr>\n      <th>36</th>\n      <td>336000</td>\n      <td>1</td>\n      <td>196</td>\n    </tr>\n    <tr>\n      <th>37</th>\n      <td>336000</td>\n      <td>2</td>\n      <td>151</td>\n    </tr>\n    <tr>\n      <th>38</th>\n      <td>336001</td>\n      <td>1</td>\n      <td>169</td>\n    </tr>\n    <tr>\n      <th>39</th>\n      <td>336001</td>\n      <td>2</td>\n      <td>172</td>\n    </tr>\n    <tr>\n      <th>40</th>\n      <td>336002</td>\n      <td>1</td>\n      <td>165</td>\n    </tr>\n    <tr>\n      <th>41</th>\n      <td>336002</td>\n      <td>2</td>\n      <td>171</td>\n    </tr>\n    <tr>\n      <th>42</th>\n      <td>336003</td>\n      <td>1</td>\n      <td>11</td>\n    </tr>\n  </tbody>\n</table>\n</div>"
     },
     "execution_count": 6,
     "metadata": {},
     "output_type": "execute_result"
    }
   ],
   "source": [
    "total_score = features.groupby(['id','inning']).sum()['total_runs'].reset_index()\n",
    "total_score\n",
    "\n",
    "\n"
   ],
   "metadata": {
    "collapsed": false,
    "pycharm": {
     "name": "#%%\n"
    }
   }
  },
  {
   "cell_type": "code",
   "execution_count": 7,
   "outputs": [
    {
     "data": {
      "text/plain": "(22, 3)"
     },
     "execution_count": 7,
     "metadata": {},
     "output_type": "execute_result"
    }
   ],
   "source": [
    "total_score = total_score[total_score.inning == 1]\n",
    "total_score.shape\n"
   ],
   "metadata": {
    "collapsed": false,
    "pycharm": {
     "name": "#%%\n"
    }
   }
  },
  {
   "cell_type": "markdown",
   "source": [],
   "metadata": {
    "collapsed": false,
    "pycharm": {
     "name": "#%% md\n"
    }
   }
  },
  {
   "cell_type": "code",
   "execution_count": 8,
   "outputs": [],
   "source": [
    "match = pd.read_csv(r'C:\\Users\\Admin\\OneDrive\\Desktop\\Data Science Projects\\IPL\\IPL Matches 2008-2020.csv', nrows=22)"
   ],
   "metadata": {
    "collapsed": false,
    "pycharm": {
     "name": "#%%\n"
    }
   }
  },
  {
   "cell_type": "code",
   "execution_count": 9,
   "outputs": [
    {
     "data": {
      "text/plain": "       id        city        date player_of_match  \\\n0  335982   Bangalore  2008-04-18     BB McCullum   \n1  335983  Chandigarh  2008-04-19      MEK Hussey   \n2  335984       Delhi  2008-04-19     MF Maharoof   \n3  335985      Mumbai  2008-04-20      MV Boucher   \n4  335986     Kolkata  2008-04-20       DJ Hussey   \n\n                                        venue  neutral_venue  \\\n0                       M Chinnaswamy Stadium              0   \n1  Punjab Cricket Association Stadium, Mohali              0   \n2                            Feroz Shah Kotla              0   \n3                            Wankhede Stadium              0   \n4                                Eden Gardens              0   \n\n                         team1                        team2  \\\n0  Royal Challengers Bangalore        Kolkata Knight Riders   \n1              Kings XI Punjab          Chennai Super Kings   \n2             Delhi Daredevils             Rajasthan Royals   \n3               Mumbai Indians  Royal Challengers Bangalore   \n4        Kolkata Knight Riders              Deccan Chargers   \n\n                   toss_winner toss_decision                       winner  \\\n0  Royal Challengers Bangalore         field        Kolkata Knight Riders   \n1          Chennai Super Kings           bat          Chennai Super Kings   \n2             Rajasthan Royals           bat             Delhi Daredevils   \n3               Mumbai Indians           bat  Royal Challengers Bangalore   \n4              Deccan Chargers           bat        Kolkata Knight Riders   \n\n    result  result_margin eliminator  method    umpire1         umpire2  \n0     runs            140          N     NaN  Asad Rauf     RE Koertzen  \n1     runs             33          N     NaN  MR Benson      SL Shastri  \n2  wickets              9          N     NaN  Aleem Dar  GA Pratapkumar  \n3  wickets              5          N     NaN   SJ Davis       DJ Harper  \n4  wickets              5          N     NaN  BF Bowden     K Hariharan  ",
      "text/html": "<div>\n<style scoped>\n    .dataframe tbody tr th:only-of-type {\n        vertical-align: middle;\n    }\n\n    .dataframe tbody tr th {\n        vertical-align: top;\n    }\n\n    .dataframe thead th {\n        text-align: right;\n    }\n</style>\n<table border=\"1\" class=\"dataframe\">\n  <thead>\n    <tr style=\"text-align: right;\">\n      <th></th>\n      <th>id</th>\n      <th>city</th>\n      <th>date</th>\n      <th>player_of_match</th>\n      <th>venue</th>\n      <th>neutral_venue</th>\n      <th>team1</th>\n      <th>team2</th>\n      <th>toss_winner</th>\n      <th>toss_decision</th>\n      <th>winner</th>\n      <th>result</th>\n      <th>result_margin</th>\n      <th>eliminator</th>\n      <th>method</th>\n      <th>umpire1</th>\n      <th>umpire2</th>\n    </tr>\n  </thead>\n  <tbody>\n    <tr>\n      <th>0</th>\n      <td>335982</td>\n      <td>Bangalore</td>\n      <td>2008-04-18</td>\n      <td>BB McCullum</td>\n      <td>M Chinnaswamy Stadium</td>\n      <td>0</td>\n      <td>Royal Challengers Bangalore</td>\n      <td>Kolkata Knight Riders</td>\n      <td>Royal Challengers Bangalore</td>\n      <td>field</td>\n      <td>Kolkata Knight Riders</td>\n      <td>runs</td>\n      <td>140</td>\n      <td>N</td>\n      <td>NaN</td>\n      <td>Asad Rauf</td>\n      <td>RE Koertzen</td>\n    </tr>\n    <tr>\n      <th>1</th>\n      <td>335983</td>\n      <td>Chandigarh</td>\n      <td>2008-04-19</td>\n      <td>MEK Hussey</td>\n      <td>Punjab Cricket Association Stadium, Mohali</td>\n      <td>0</td>\n      <td>Kings XI Punjab</td>\n      <td>Chennai Super Kings</td>\n      <td>Chennai Super Kings</td>\n      <td>bat</td>\n      <td>Chennai Super Kings</td>\n      <td>runs</td>\n      <td>33</td>\n      <td>N</td>\n      <td>NaN</td>\n      <td>MR Benson</td>\n      <td>SL Shastri</td>\n    </tr>\n    <tr>\n      <th>2</th>\n      <td>335984</td>\n      <td>Delhi</td>\n      <td>2008-04-19</td>\n      <td>MF Maharoof</td>\n      <td>Feroz Shah Kotla</td>\n      <td>0</td>\n      <td>Delhi Daredevils</td>\n      <td>Rajasthan Royals</td>\n      <td>Rajasthan Royals</td>\n      <td>bat</td>\n      <td>Delhi Daredevils</td>\n      <td>wickets</td>\n      <td>9</td>\n      <td>N</td>\n      <td>NaN</td>\n      <td>Aleem Dar</td>\n      <td>GA Pratapkumar</td>\n    </tr>\n    <tr>\n      <th>3</th>\n      <td>335985</td>\n      <td>Mumbai</td>\n      <td>2008-04-20</td>\n      <td>MV Boucher</td>\n      <td>Wankhede Stadium</td>\n      <td>0</td>\n      <td>Mumbai Indians</td>\n      <td>Royal Challengers Bangalore</td>\n      <td>Mumbai Indians</td>\n      <td>bat</td>\n      <td>Royal Challengers Bangalore</td>\n      <td>wickets</td>\n      <td>5</td>\n      <td>N</td>\n      <td>NaN</td>\n      <td>SJ Davis</td>\n      <td>DJ Harper</td>\n    </tr>\n    <tr>\n      <th>4</th>\n      <td>335986</td>\n      <td>Kolkata</td>\n      <td>2008-04-20</td>\n      <td>DJ Hussey</td>\n      <td>Eden Gardens</td>\n      <td>0</td>\n      <td>Kolkata Knight Riders</td>\n      <td>Deccan Chargers</td>\n      <td>Deccan Chargers</td>\n      <td>bat</td>\n      <td>Kolkata Knight Riders</td>\n      <td>wickets</td>\n      <td>5</td>\n      <td>N</td>\n      <td>NaN</td>\n      <td>BF Bowden</td>\n      <td>K Hariharan</td>\n    </tr>\n  </tbody>\n</table>\n</div>"
     },
     "execution_count": 9,
     "metadata": {},
     "output_type": "execute_result"
    }
   ],
   "source": [
    "match.head()"
   ],
   "metadata": {
    "collapsed": false,
    "pycharm": {
     "name": "#%%\n"
    }
   }
  },
  {
   "cell_type": "code",
   "execution_count": 10,
   "outputs": [],
   "source": [
    "df = pd.merge(match,total_score[['total_runs','id']]).reset_index()"
   ],
   "metadata": {
    "collapsed": false,
    "pycharm": {
     "name": "#%%\n"
    }
   }
  },
  {
   "cell_type": "code",
   "execution_count": 10,
   "outputs": [],
   "source": [],
   "metadata": {
    "collapsed": false,
    "pycharm": {
     "name": "#%%\n"
    }
   }
  },
  {
   "cell_type": "code",
   "execution_count": 11,
   "outputs": [
    {
     "data": {
      "text/plain": "array(['Royal Challengers Bangalore', 'Kings XI Punjab',\n       'Delhi Daredevils', 'Mumbai Indians', 'Kolkata Knight Riders',\n       'Rajasthan Royals', 'Deccan Chargers', 'Chennai Super Kings'],\n      dtype=object)"
     },
     "execution_count": 11,
     "metadata": {},
     "output_type": "execute_result"
    }
   ],
   "source": [
    "df.team1.unique()"
   ],
   "metadata": {
    "collapsed": false,
    "pycharm": {
     "name": "#%%\n"
    }
   }
  },
  {
   "cell_type": "code",
   "execution_count": 12,
   "outputs": [
    {
     "data": {
      "text/plain": "array(['Kolkata Knight Riders', 'Chennai Super Kings', 'Rajasthan Royals',\n       'Royal Challengers Bangalore', 'Kings XI Punjab', 'Mumbai Indians',\n       'Delhi Daredevils'], dtype=object)"
     },
     "execution_count": 12,
     "metadata": {},
     "output_type": "execute_result"
    }
   ],
   "source": [
    "teams = [\"Royal Challengers Bangalore\",\"Kings XI Punjab\",\"Delhi Daredevils\",\"Mumbai Indians\",\"Kolkata Knight Riders\",\"Rajasthan Royals\",\"Chennai Super Kings\",]\n",
    "df = df[df[\"team1\"].isin(teams)]\n",
    "df = df[df[\"team2\"].isin(teams)]\n",
    "\n",
    "\n",
    "df.team2.unique()"
   ],
   "metadata": {
    "collapsed": false,
    "pycharm": {
     "name": "#%%\n"
    }
   }
  },
  {
   "cell_type": "code",
   "execution_count": 13,
   "outputs": [
    {
     "data": {
      "text/plain": "   index      id        city        date player_of_match  \\\n0      0  335982   Bangalore  2008-04-18     BB McCullum   \n1      1  335983  Chandigarh  2008-04-19      MEK Hussey   \n2      2  335984       Delhi  2008-04-19     MF Maharoof   \n3      3  335985      Mumbai  2008-04-20      MV Boucher   \n5      5  335987      Jaipur  2008-04-21       SR Watson   \n\n                                        venue  neutral_venue  \\\n0                       M Chinnaswamy Stadium              0   \n1  Punjab Cricket Association Stadium, Mohali              0   \n2                            Feroz Shah Kotla              0   \n3                            Wankhede Stadium              0   \n5                      Sawai Mansingh Stadium              0   \n\n                         team1                        team2  \\\n0  Royal Challengers Bangalore        Kolkata Knight Riders   \n1              Kings XI Punjab          Chennai Super Kings   \n2             Delhi Daredevils             Rajasthan Royals   \n3               Mumbai Indians  Royal Challengers Bangalore   \n5             Rajasthan Royals              Kings XI Punjab   \n\n                   toss_winner toss_decision                       winner  \\\n0  Royal Challengers Bangalore         field        Kolkata Knight Riders   \n1          Chennai Super Kings           bat          Chennai Super Kings   \n2             Rajasthan Royals           bat             Delhi Daredevils   \n3               Mumbai Indians           bat  Royal Challengers Bangalore   \n5              Kings XI Punjab           bat             Rajasthan Royals   \n\n    result  result_margin eliminator  method    umpire1         umpire2  \\\n0     runs            140          N     NaN  Asad Rauf     RE Koertzen   \n1     runs             33          N     NaN  MR Benson      SL Shastri   \n2  wickets              9          N     NaN  Aleem Dar  GA Pratapkumar   \n3  wickets              5          N     NaN   SJ Davis       DJ Harper   \n5  wickets              6          N     NaN  Aleem Dar       RB Tiffin   \n\n   total_runs  \n0         222  \n1         240  \n2         129  \n3         165  \n5         166  ",
      "text/html": "<div>\n<style scoped>\n    .dataframe tbody tr th:only-of-type {\n        vertical-align: middle;\n    }\n\n    .dataframe tbody tr th {\n        vertical-align: top;\n    }\n\n    .dataframe thead th {\n        text-align: right;\n    }\n</style>\n<table border=\"1\" class=\"dataframe\">\n  <thead>\n    <tr style=\"text-align: right;\">\n      <th></th>\n      <th>index</th>\n      <th>id</th>\n      <th>city</th>\n      <th>date</th>\n      <th>player_of_match</th>\n      <th>venue</th>\n      <th>neutral_venue</th>\n      <th>team1</th>\n      <th>team2</th>\n      <th>toss_winner</th>\n      <th>toss_decision</th>\n      <th>winner</th>\n      <th>result</th>\n      <th>result_margin</th>\n      <th>eliminator</th>\n      <th>method</th>\n      <th>umpire1</th>\n      <th>umpire2</th>\n      <th>total_runs</th>\n    </tr>\n  </thead>\n  <tbody>\n    <tr>\n      <th>0</th>\n      <td>0</td>\n      <td>335982</td>\n      <td>Bangalore</td>\n      <td>2008-04-18</td>\n      <td>BB McCullum</td>\n      <td>M Chinnaswamy Stadium</td>\n      <td>0</td>\n      <td>Royal Challengers Bangalore</td>\n      <td>Kolkata Knight Riders</td>\n      <td>Royal Challengers Bangalore</td>\n      <td>field</td>\n      <td>Kolkata Knight Riders</td>\n      <td>runs</td>\n      <td>140</td>\n      <td>N</td>\n      <td>NaN</td>\n      <td>Asad Rauf</td>\n      <td>RE Koertzen</td>\n      <td>222</td>\n    </tr>\n    <tr>\n      <th>1</th>\n      <td>1</td>\n      <td>335983</td>\n      <td>Chandigarh</td>\n      <td>2008-04-19</td>\n      <td>MEK Hussey</td>\n      <td>Punjab Cricket Association Stadium, Mohali</td>\n      <td>0</td>\n      <td>Kings XI Punjab</td>\n      <td>Chennai Super Kings</td>\n      <td>Chennai Super Kings</td>\n      <td>bat</td>\n      <td>Chennai Super Kings</td>\n      <td>runs</td>\n      <td>33</td>\n      <td>N</td>\n      <td>NaN</td>\n      <td>MR Benson</td>\n      <td>SL Shastri</td>\n      <td>240</td>\n    </tr>\n    <tr>\n      <th>2</th>\n      <td>2</td>\n      <td>335984</td>\n      <td>Delhi</td>\n      <td>2008-04-19</td>\n      <td>MF Maharoof</td>\n      <td>Feroz Shah Kotla</td>\n      <td>0</td>\n      <td>Delhi Daredevils</td>\n      <td>Rajasthan Royals</td>\n      <td>Rajasthan Royals</td>\n      <td>bat</td>\n      <td>Delhi Daredevils</td>\n      <td>wickets</td>\n      <td>9</td>\n      <td>N</td>\n      <td>NaN</td>\n      <td>Aleem Dar</td>\n      <td>GA Pratapkumar</td>\n      <td>129</td>\n    </tr>\n    <tr>\n      <th>3</th>\n      <td>3</td>\n      <td>335985</td>\n      <td>Mumbai</td>\n      <td>2008-04-20</td>\n      <td>MV Boucher</td>\n      <td>Wankhede Stadium</td>\n      <td>0</td>\n      <td>Mumbai Indians</td>\n      <td>Royal Challengers Bangalore</td>\n      <td>Mumbai Indians</td>\n      <td>bat</td>\n      <td>Royal Challengers Bangalore</td>\n      <td>wickets</td>\n      <td>5</td>\n      <td>N</td>\n      <td>NaN</td>\n      <td>SJ Davis</td>\n      <td>DJ Harper</td>\n      <td>165</td>\n    </tr>\n    <tr>\n      <th>5</th>\n      <td>5</td>\n      <td>335987</td>\n      <td>Jaipur</td>\n      <td>2008-04-21</td>\n      <td>SR Watson</td>\n      <td>Sawai Mansingh Stadium</td>\n      <td>0</td>\n      <td>Rajasthan Royals</td>\n      <td>Kings XI Punjab</td>\n      <td>Kings XI Punjab</td>\n      <td>bat</td>\n      <td>Rajasthan Royals</td>\n      <td>wickets</td>\n      <td>6</td>\n      <td>N</td>\n      <td>NaN</td>\n      <td>Aleem Dar</td>\n      <td>RB Tiffin</td>\n      <td>166</td>\n    </tr>\n  </tbody>\n</table>\n</div>"
     },
     "execution_count": 13,
     "metadata": {},
     "output_type": "execute_result"
    }
   ],
   "source": [
    "df.head()"
   ],
   "metadata": {
    "collapsed": false,
    "pycharm": {
     "name": "#%%\n"
    }
   }
  },
  {
   "cell_type": "code",
   "execution_count": 14,
   "outputs": [
    {
     "data": {
      "text/plain": "0    16\nName: neutral_venue, dtype: int64"
     },
     "execution_count": 14,
     "metadata": {},
     "output_type": "execute_result"
    }
   ],
   "source": [
    "df.neutral_venue.value_counts()"
   ],
   "metadata": {
    "collapsed": false,
    "pycharm": {
     "name": "#%%\n"
    }
   }
  },
  {
   "cell_type": "code",
   "execution_count": 15,
   "outputs": [],
   "source": [
    "df = df[df.neutral_venue == 0]"
   ],
   "metadata": {
    "collapsed": false,
    "pycharm": {
     "name": "#%%\n"
    }
   }
  },
  {
   "cell_type": "code",
   "execution_count": 16,
   "outputs": [
    {
     "data": {
      "text/plain": "       id        city                        team1  \\\n0  335982   Bangalore  Royal Challengers Bangalore   \n1  335983  Chandigarh              Kings XI Punjab   \n2  335984       Delhi             Delhi Daredevils   \n3  335985      Mumbai               Mumbai Indians   \n5  335987      Jaipur             Rajasthan Royals   \n\n                         team2                       winner   result  \\\n0        Kolkata Knight Riders        Kolkata Knight Riders     runs   \n1          Chennai Super Kings          Chennai Super Kings     runs   \n2             Rajasthan Royals             Delhi Daredevils  wickets   \n3  Royal Challengers Bangalore  Royal Challengers Bangalore  wickets   \n5              Kings XI Punjab             Rajasthan Royals  wickets   \n\n   result_margin  total_runs  \n0            140         222  \n1             33         240  \n2              9         129  \n3              5         165  \n5              6         166  ",
      "text/html": "<div>\n<style scoped>\n    .dataframe tbody tr th:only-of-type {\n        vertical-align: middle;\n    }\n\n    .dataframe tbody tr th {\n        vertical-align: top;\n    }\n\n    .dataframe thead th {\n        text-align: right;\n    }\n</style>\n<table border=\"1\" class=\"dataframe\">\n  <thead>\n    <tr style=\"text-align: right;\">\n      <th></th>\n      <th>id</th>\n      <th>city</th>\n      <th>team1</th>\n      <th>team2</th>\n      <th>winner</th>\n      <th>result</th>\n      <th>result_margin</th>\n      <th>total_runs</th>\n    </tr>\n  </thead>\n  <tbody>\n    <tr>\n      <th>0</th>\n      <td>335982</td>\n      <td>Bangalore</td>\n      <td>Royal Challengers Bangalore</td>\n      <td>Kolkata Knight Riders</td>\n      <td>Kolkata Knight Riders</td>\n      <td>runs</td>\n      <td>140</td>\n      <td>222</td>\n    </tr>\n    <tr>\n      <th>1</th>\n      <td>335983</td>\n      <td>Chandigarh</td>\n      <td>Kings XI Punjab</td>\n      <td>Chennai Super Kings</td>\n      <td>Chennai Super Kings</td>\n      <td>runs</td>\n      <td>33</td>\n      <td>240</td>\n    </tr>\n    <tr>\n      <th>2</th>\n      <td>335984</td>\n      <td>Delhi</td>\n      <td>Delhi Daredevils</td>\n      <td>Rajasthan Royals</td>\n      <td>Delhi Daredevils</td>\n      <td>wickets</td>\n      <td>9</td>\n      <td>129</td>\n    </tr>\n    <tr>\n      <th>3</th>\n      <td>335985</td>\n      <td>Mumbai</td>\n      <td>Mumbai Indians</td>\n      <td>Royal Challengers Bangalore</td>\n      <td>Royal Challengers Bangalore</td>\n      <td>wickets</td>\n      <td>5</td>\n      <td>165</td>\n    </tr>\n    <tr>\n      <th>5</th>\n      <td>335987</td>\n      <td>Jaipur</td>\n      <td>Rajasthan Royals</td>\n      <td>Kings XI Punjab</td>\n      <td>Rajasthan Royals</td>\n      <td>wickets</td>\n      <td>6</td>\n      <td>166</td>\n    </tr>\n  </tbody>\n</table>\n</div>"
     },
     "execution_count": 16,
     "metadata": {},
     "output_type": "execute_result"
    }
   ],
   "source": [
    "df = df[['id','city','team1','team2','winner','result','result_margin','total_runs']]\n",
    "df.head()"
   ],
   "metadata": {
    "collapsed": false,
    "pycharm": {
     "name": "#%%\n"
    }
   }
  },
  {
   "cell_type": "code",
   "execution_count": 17,
   "outputs": [
    {
     "data": {
      "text/plain": "(16, 8)"
     },
     "execution_count": 17,
     "metadata": {},
     "output_type": "execute_result"
    }
   ],
   "source": [
    "df.shape"
   ],
   "metadata": {
    "collapsed": false,
    "pycharm": {
     "name": "#%%\n"
    }
   }
  },
  {
   "cell_type": "code",
   "execution_count": 18,
   "outputs": [
    {
     "data": {
      "text/plain": "(3626, 25)"
     },
     "execution_count": 18,
     "metadata": {},
     "output_type": "execute_result"
    }
   ],
   "source": [
    "features = features.merge(df,on='id')\n",
    "features.shape"
   ],
   "metadata": {
    "collapsed": false,
    "pycharm": {
     "name": "#%%\n"
    }
   }
  },
  {
   "cell_type": "code",
   "execution_count": 19,
   "outputs": [],
   "source": [
    "features = features[features.inning == 2]\n"
   ],
   "metadata": {
    "collapsed": false,
    "pycharm": {
     "name": "#%%\n"
    }
   }
  },
  {
   "cell_type": "code",
   "execution_count": 20,
   "outputs": [
    {
     "data": {
      "text/plain": "         id  inning  over  ball     batsman non_striker      bowler  \\\n121  335982       2     6     2    CL White  MV Boucher  AB Agarkar   \n122  335982       2     6     3    CL White  MV Boucher  AB Agarkar   \n123  335982       2     6     4  MV Boucher    CL White  AB Agarkar   \n124  335982       2     6     5  MV Boucher    CL White  AB Agarkar   \n125  335982       2     6     6  MV Boucher    CL White  AB Agarkar   \n\n     batsman_runs  extra_runs  total_runs_x  ...  extras_type  \\\n121             0           0             0  ...          NaN   \n122             1           0             1  ...          NaN   \n123             0           1             1  ...        wides   \n124             0           1             1  ...        wides   \n125             0           0             0  ...          NaN   \n\n                    batting_team           bowling_team       city  \\\n121  Royal Challengers Bangalore  Kolkata Knight Riders  Bangalore   \n122  Royal Challengers Bangalore  Kolkata Knight Riders  Bangalore   \n123  Royal Challengers Bangalore  Kolkata Knight Riders  Bangalore   \n124  Royal Challengers Bangalore  Kolkata Knight Riders  Bangalore   \n125  Royal Challengers Bangalore  Kolkata Knight Riders  Bangalore   \n\n                           team1                  team2  \\\n121  Royal Challengers Bangalore  Kolkata Knight Riders   \n122  Royal Challengers Bangalore  Kolkata Knight Riders   \n123  Royal Challengers Bangalore  Kolkata Knight Riders   \n124  Royal Challengers Bangalore  Kolkata Knight Riders   \n125  Royal Challengers Bangalore  Kolkata Knight Riders   \n\n                    winner result result_margin total_runs_y  \n121  Kolkata Knight Riders   runs           140          222  \n122  Kolkata Knight Riders   runs           140          222  \n123  Kolkata Knight Riders   runs           140          222  \n124  Kolkata Knight Riders   runs           140          222  \n125  Kolkata Knight Riders   runs           140          222  \n\n[5 rows x 25 columns]",
      "text/html": "<div>\n<style scoped>\n    .dataframe tbody tr th:only-of-type {\n        vertical-align: middle;\n    }\n\n    .dataframe tbody tr th {\n        vertical-align: top;\n    }\n\n    .dataframe thead th {\n        text-align: right;\n    }\n</style>\n<table border=\"1\" class=\"dataframe\">\n  <thead>\n    <tr style=\"text-align: right;\">\n      <th></th>\n      <th>id</th>\n      <th>inning</th>\n      <th>over</th>\n      <th>ball</th>\n      <th>batsman</th>\n      <th>non_striker</th>\n      <th>bowler</th>\n      <th>batsman_runs</th>\n      <th>extra_runs</th>\n      <th>total_runs_x</th>\n      <th>...</th>\n      <th>extras_type</th>\n      <th>batting_team</th>\n      <th>bowling_team</th>\n      <th>city</th>\n      <th>team1</th>\n      <th>team2</th>\n      <th>winner</th>\n      <th>result</th>\n      <th>result_margin</th>\n      <th>total_runs_y</th>\n    </tr>\n  </thead>\n  <tbody>\n    <tr>\n      <th>121</th>\n      <td>335982</td>\n      <td>2</td>\n      <td>6</td>\n      <td>2</td>\n      <td>CL White</td>\n      <td>MV Boucher</td>\n      <td>AB Agarkar</td>\n      <td>0</td>\n      <td>0</td>\n      <td>0</td>\n      <td>...</td>\n      <td>NaN</td>\n      <td>Royal Challengers Bangalore</td>\n      <td>Kolkata Knight Riders</td>\n      <td>Bangalore</td>\n      <td>Royal Challengers Bangalore</td>\n      <td>Kolkata Knight Riders</td>\n      <td>Kolkata Knight Riders</td>\n      <td>runs</td>\n      <td>140</td>\n      <td>222</td>\n    </tr>\n    <tr>\n      <th>122</th>\n      <td>335982</td>\n      <td>2</td>\n      <td>6</td>\n      <td>3</td>\n      <td>CL White</td>\n      <td>MV Boucher</td>\n      <td>AB Agarkar</td>\n      <td>1</td>\n      <td>0</td>\n      <td>1</td>\n      <td>...</td>\n      <td>NaN</td>\n      <td>Royal Challengers Bangalore</td>\n      <td>Kolkata Knight Riders</td>\n      <td>Bangalore</td>\n      <td>Royal Challengers Bangalore</td>\n      <td>Kolkata Knight Riders</td>\n      <td>Kolkata Knight Riders</td>\n      <td>runs</td>\n      <td>140</td>\n      <td>222</td>\n    </tr>\n    <tr>\n      <th>123</th>\n      <td>335982</td>\n      <td>2</td>\n      <td>6</td>\n      <td>4</td>\n      <td>MV Boucher</td>\n      <td>CL White</td>\n      <td>AB Agarkar</td>\n      <td>0</td>\n      <td>1</td>\n      <td>1</td>\n      <td>...</td>\n      <td>wides</td>\n      <td>Royal Challengers Bangalore</td>\n      <td>Kolkata Knight Riders</td>\n      <td>Bangalore</td>\n      <td>Royal Challengers Bangalore</td>\n      <td>Kolkata Knight Riders</td>\n      <td>Kolkata Knight Riders</td>\n      <td>runs</td>\n      <td>140</td>\n      <td>222</td>\n    </tr>\n    <tr>\n      <th>124</th>\n      <td>335982</td>\n      <td>2</td>\n      <td>6</td>\n      <td>5</td>\n      <td>MV Boucher</td>\n      <td>CL White</td>\n      <td>AB Agarkar</td>\n      <td>0</td>\n      <td>1</td>\n      <td>1</td>\n      <td>...</td>\n      <td>wides</td>\n      <td>Royal Challengers Bangalore</td>\n      <td>Kolkata Knight Riders</td>\n      <td>Bangalore</td>\n      <td>Royal Challengers Bangalore</td>\n      <td>Kolkata Knight Riders</td>\n      <td>Kolkata Knight Riders</td>\n      <td>runs</td>\n      <td>140</td>\n      <td>222</td>\n    </tr>\n    <tr>\n      <th>125</th>\n      <td>335982</td>\n      <td>2</td>\n      <td>6</td>\n      <td>6</td>\n      <td>MV Boucher</td>\n      <td>CL White</td>\n      <td>AB Agarkar</td>\n      <td>0</td>\n      <td>0</td>\n      <td>0</td>\n      <td>...</td>\n      <td>NaN</td>\n      <td>Royal Challengers Bangalore</td>\n      <td>Kolkata Knight Riders</td>\n      <td>Bangalore</td>\n      <td>Royal Challengers Bangalore</td>\n      <td>Kolkata Knight Riders</td>\n      <td>Kolkata Knight Riders</td>\n      <td>runs</td>\n      <td>140</td>\n      <td>222</td>\n    </tr>\n  </tbody>\n</table>\n<p>5 rows × 25 columns</p>\n</div>"
     },
     "execution_count": 20,
     "metadata": {},
     "output_type": "execute_result"
    }
   ],
   "source": [
    "features.head()"
   ],
   "metadata": {
    "collapsed": false,
    "pycharm": {
     "name": "#%%\n"
    }
   }
  },
  {
   "cell_type": "code",
   "execution_count": 21,
   "outputs": [
    {
     "data": {
      "text/plain": "(1756, 25)"
     },
     "execution_count": 21,
     "metadata": {},
     "output_type": "execute_result"
    }
   ],
   "source": [
    "features.shape"
   ],
   "metadata": {
    "collapsed": false,
    "pycharm": {
     "name": "#%%\n"
    }
   }
  },
  {
   "cell_type": "code",
   "execution_count": 22,
   "outputs": [],
   "source": [
    "features['current_score'] = features.groupby('id').cumsum()['total_runs_x']\n",
    "features['runs_tail'] = features.total_runs_y + 1- features.current_score"
   ],
   "metadata": {
    "collapsed": false,
    "pycharm": {
     "name": "#%%\n"
    }
   }
  },
  {
   "cell_type": "code",
   "execution_count": 23,
   "outputs": [
    {
     "data": {
      "text/plain": "         id  inning  over  ball     batsman non_striker      bowler  \\\n121  335982       2     6     2    CL White  MV Boucher  AB Agarkar   \n122  335982       2     6     3    CL White  MV Boucher  AB Agarkar   \n123  335982       2     6     4  MV Boucher    CL White  AB Agarkar   \n124  335982       2     6     5  MV Boucher    CL White  AB Agarkar   \n125  335982       2     6     6  MV Boucher    CL White  AB Agarkar   \n\n     batsman_runs  extra_runs  total_runs_x  ...           bowling_team  \\\n121             0           0             0  ...  Kolkata Knight Riders   \n122             1           0             1  ...  Kolkata Knight Riders   \n123             0           1             1  ...  Kolkata Knight Riders   \n124             0           1             1  ...  Kolkata Knight Riders   \n125             0           0             0  ...  Kolkata Knight Riders   \n\n          city                        team1                  team2  \\\n121  Bangalore  Royal Challengers Bangalore  Kolkata Knight Riders   \n122  Bangalore  Royal Challengers Bangalore  Kolkata Knight Riders   \n123  Bangalore  Royal Challengers Bangalore  Kolkata Knight Riders   \n124  Bangalore  Royal Challengers Bangalore  Kolkata Knight Riders   \n125  Bangalore  Royal Challengers Bangalore  Kolkata Knight Riders   \n\n                    winner result result_margin total_runs_y current_score  \\\n121  Kolkata Knight Riders   runs           140          222             0   \n122  Kolkata Knight Riders   runs           140          222             1   \n123  Kolkata Knight Riders   runs           140          222             2   \n124  Kolkata Knight Riders   runs           140          222             3   \n125  Kolkata Knight Riders   runs           140          222             3   \n\n    runs_tail  \n121       223  \n122       222  \n123       221  \n124       220  \n125       220  \n\n[5 rows x 27 columns]",
      "text/html": "<div>\n<style scoped>\n    .dataframe tbody tr th:only-of-type {\n        vertical-align: middle;\n    }\n\n    .dataframe tbody tr th {\n        vertical-align: top;\n    }\n\n    .dataframe thead th {\n        text-align: right;\n    }\n</style>\n<table border=\"1\" class=\"dataframe\">\n  <thead>\n    <tr style=\"text-align: right;\">\n      <th></th>\n      <th>id</th>\n      <th>inning</th>\n      <th>over</th>\n      <th>ball</th>\n      <th>batsman</th>\n      <th>non_striker</th>\n      <th>bowler</th>\n      <th>batsman_runs</th>\n      <th>extra_runs</th>\n      <th>total_runs_x</th>\n      <th>...</th>\n      <th>bowling_team</th>\n      <th>city</th>\n      <th>team1</th>\n      <th>team2</th>\n      <th>winner</th>\n      <th>result</th>\n      <th>result_margin</th>\n      <th>total_runs_y</th>\n      <th>current_score</th>\n      <th>runs_tail</th>\n    </tr>\n  </thead>\n  <tbody>\n    <tr>\n      <th>121</th>\n      <td>335982</td>\n      <td>2</td>\n      <td>6</td>\n      <td>2</td>\n      <td>CL White</td>\n      <td>MV Boucher</td>\n      <td>AB Agarkar</td>\n      <td>0</td>\n      <td>0</td>\n      <td>0</td>\n      <td>...</td>\n      <td>Kolkata Knight Riders</td>\n      <td>Bangalore</td>\n      <td>Royal Challengers Bangalore</td>\n      <td>Kolkata Knight Riders</td>\n      <td>Kolkata Knight Riders</td>\n      <td>runs</td>\n      <td>140</td>\n      <td>222</td>\n      <td>0</td>\n      <td>223</td>\n    </tr>\n    <tr>\n      <th>122</th>\n      <td>335982</td>\n      <td>2</td>\n      <td>6</td>\n      <td>3</td>\n      <td>CL White</td>\n      <td>MV Boucher</td>\n      <td>AB Agarkar</td>\n      <td>1</td>\n      <td>0</td>\n      <td>1</td>\n      <td>...</td>\n      <td>Kolkata Knight Riders</td>\n      <td>Bangalore</td>\n      <td>Royal Challengers Bangalore</td>\n      <td>Kolkata Knight Riders</td>\n      <td>Kolkata Knight Riders</td>\n      <td>runs</td>\n      <td>140</td>\n      <td>222</td>\n      <td>1</td>\n      <td>222</td>\n    </tr>\n    <tr>\n      <th>123</th>\n      <td>335982</td>\n      <td>2</td>\n      <td>6</td>\n      <td>4</td>\n      <td>MV Boucher</td>\n      <td>CL White</td>\n      <td>AB Agarkar</td>\n      <td>0</td>\n      <td>1</td>\n      <td>1</td>\n      <td>...</td>\n      <td>Kolkata Knight Riders</td>\n      <td>Bangalore</td>\n      <td>Royal Challengers Bangalore</td>\n      <td>Kolkata Knight Riders</td>\n      <td>Kolkata Knight Riders</td>\n      <td>runs</td>\n      <td>140</td>\n      <td>222</td>\n      <td>2</td>\n      <td>221</td>\n    </tr>\n    <tr>\n      <th>124</th>\n      <td>335982</td>\n      <td>2</td>\n      <td>6</td>\n      <td>5</td>\n      <td>MV Boucher</td>\n      <td>CL White</td>\n      <td>AB Agarkar</td>\n      <td>0</td>\n      <td>1</td>\n      <td>1</td>\n      <td>...</td>\n      <td>Kolkata Knight Riders</td>\n      <td>Bangalore</td>\n      <td>Royal Challengers Bangalore</td>\n      <td>Kolkata Knight Riders</td>\n      <td>Kolkata Knight Riders</td>\n      <td>runs</td>\n      <td>140</td>\n      <td>222</td>\n      <td>3</td>\n      <td>220</td>\n    </tr>\n    <tr>\n      <th>125</th>\n      <td>335982</td>\n      <td>2</td>\n      <td>6</td>\n      <td>6</td>\n      <td>MV Boucher</td>\n      <td>CL White</td>\n      <td>AB Agarkar</td>\n      <td>0</td>\n      <td>0</td>\n      <td>0</td>\n      <td>...</td>\n      <td>Kolkata Knight Riders</td>\n      <td>Bangalore</td>\n      <td>Royal Challengers Bangalore</td>\n      <td>Kolkata Knight Riders</td>\n      <td>Kolkata Knight Riders</td>\n      <td>runs</td>\n      <td>140</td>\n      <td>222</td>\n      <td>3</td>\n      <td>220</td>\n    </tr>\n  </tbody>\n</table>\n<p>5 rows × 27 columns</p>\n</div>"
     },
     "execution_count": 23,
     "metadata": {},
     "output_type": "execute_result"
    }
   ],
   "source": [
    "features.head()"
   ],
   "metadata": {
    "collapsed": false,
    "pycharm": {
     "name": "#%%\n"
    }
   }
  },
  {
   "cell_type": "code",
   "execution_count": 24,
   "outputs": [],
   "source": [
    "features['balls_left'] = 120 - (6*features.over + features.ball)"
   ],
   "metadata": {
    "collapsed": false,
    "pycharm": {
     "name": "#%%\n"
    }
   }
  },
  {
   "cell_type": "code",
   "execution_count": 24,
   "outputs": [],
   "source": [],
   "metadata": {
    "collapsed": false,
    "pycharm": {
     "name": "#%%\n"
    }
   }
  },
  {
   "cell_type": "code",
   "execution_count": 25,
   "outputs": [],
   "source": [
    "features.player_dismissed = features.player_dismissed.fillna(\"0\")\n",
    "features.player_dismissed = features.player_dismissed.apply(lambda x:x if x == \"0\" else \"1\")\n",
    "features.player_dismissed.isna().sum()\n",
    "features.player_dismissed = features.player_dismissed.astype('int')\n",
    "features['wicket_left'] = 10 - (features.groupby('id').cumsum()['player_dismissed']).values"
   ],
   "metadata": {
    "collapsed": false,
    "pycharm": {
     "name": "#%%\n"
    }
   }
  },
  {
   "cell_type": "code",
   "execution_count": 26,
   "outputs": [
    {
     "data": {
      "text/plain": "          id  inning  over  ball         batsman     non_striker  \\\n121   335982       2     6     2        CL White      MV Boucher   \n122   335982       2     6     3        CL White      MV Boucher   \n123   335982       2     6     4      MV Boucher        CL White   \n124   335982       2     6     5      MV Boucher        CL White   \n125   335982       2     6     6      MV Boucher        CL White   \n...      ...     ...   ...   ...             ...             ...   \n3615  336001       2    18     6        S Dhawan  AB de Villiers   \n3616  336001       2    18     7        S Dhawan  AB de Villiers   \n3617  336001       2    16     6  AB de Villiers        S Dhawan   \n3618  336001       2    17     1        S Dhawan  AB de Villiers   \n3619  336001       2    16     5        S Dhawan  AB de Villiers   \n\n              bowler  batsman_runs  extra_runs  total_runs_x  ...  \\\n121       AB Agarkar             0           0             0  ...   \n122       AB Agarkar             1           0             1  ...   \n123       AB Agarkar             0           1             1  ...   \n124       AB Agarkar             0           1             1  ...   \n125       AB Agarkar             0           0             0  ...   \n...              ...           ...         ...           ...  ...   \n3615       JA Morkel             2           0             2  ...   \n3616       JA Morkel             4           0             4  ...   \n3617  M Muralitharan             4           0             4  ...   \n3618         MS Gony             1           0             1  ...   \n3619  M Muralitharan             1           0             1  ...   \n\n                            team1                  team2  \\\n121   Royal Challengers Bangalore  Kolkata Knight Riders   \n122   Royal Challengers Bangalore  Kolkata Knight Riders   \n123   Royal Challengers Bangalore  Kolkata Knight Riders   \n124   Royal Challengers Bangalore  Kolkata Knight Riders   \n125   Royal Challengers Bangalore  Kolkata Knight Riders   \n...                           ...                    ...   \n3615          Chennai Super Kings       Delhi Daredevils   \n3616          Chennai Super Kings       Delhi Daredevils   \n3617          Chennai Super Kings       Delhi Daredevils   \n3618          Chennai Super Kings       Delhi Daredevils   \n3619          Chennai Super Kings       Delhi Daredevils   \n\n                     winner   result result_margin total_runs_y current_score  \\\n121   Kolkata Knight Riders     runs           140          222             0   \n122   Kolkata Knight Riders     runs           140          222             1   \n123   Kolkata Knight Riders     runs           140          222             2   \n124   Kolkata Knight Riders     runs           140          222             3   \n125   Kolkata Knight Riders     runs           140          222             3   \n...                     ...      ...           ...          ...           ...   \n3615       Delhi Daredevils  wickets             8          169           162   \n3616       Delhi Daredevils  wickets             8          169           166   \n3617       Delhi Daredevils  wickets             8          169           170   \n3618       Delhi Daredevils  wickets             8          169           171   \n3619       Delhi Daredevils  wickets             8          169           172   \n\n     runs_tail balls_left wicket_left  \n121        223         82          10  \n122        222         81          10  \n123        221         80          10  \n124        220         79          10  \n125        220         78          10  \n...        ...        ...         ...  \n3615         8          6           8  \n3616         4          5           8  \n3617         0         18           8  \n3618        -1         17           8  \n3619        -2         19           8  \n\n[1756 rows x 29 columns]",
      "text/html": "<div>\n<style scoped>\n    .dataframe tbody tr th:only-of-type {\n        vertical-align: middle;\n    }\n\n    .dataframe tbody tr th {\n        vertical-align: top;\n    }\n\n    .dataframe thead th {\n        text-align: right;\n    }\n</style>\n<table border=\"1\" class=\"dataframe\">\n  <thead>\n    <tr style=\"text-align: right;\">\n      <th></th>\n      <th>id</th>\n      <th>inning</th>\n      <th>over</th>\n      <th>ball</th>\n      <th>batsman</th>\n      <th>non_striker</th>\n      <th>bowler</th>\n      <th>batsman_runs</th>\n      <th>extra_runs</th>\n      <th>total_runs_x</th>\n      <th>...</th>\n      <th>team1</th>\n      <th>team2</th>\n      <th>winner</th>\n      <th>result</th>\n      <th>result_margin</th>\n      <th>total_runs_y</th>\n      <th>current_score</th>\n      <th>runs_tail</th>\n      <th>balls_left</th>\n      <th>wicket_left</th>\n    </tr>\n  </thead>\n  <tbody>\n    <tr>\n      <th>121</th>\n      <td>335982</td>\n      <td>2</td>\n      <td>6</td>\n      <td>2</td>\n      <td>CL White</td>\n      <td>MV Boucher</td>\n      <td>AB Agarkar</td>\n      <td>0</td>\n      <td>0</td>\n      <td>0</td>\n      <td>...</td>\n      <td>Royal Challengers Bangalore</td>\n      <td>Kolkata Knight Riders</td>\n      <td>Kolkata Knight Riders</td>\n      <td>runs</td>\n      <td>140</td>\n      <td>222</td>\n      <td>0</td>\n      <td>223</td>\n      <td>82</td>\n      <td>10</td>\n    </tr>\n    <tr>\n      <th>122</th>\n      <td>335982</td>\n      <td>2</td>\n      <td>6</td>\n      <td>3</td>\n      <td>CL White</td>\n      <td>MV Boucher</td>\n      <td>AB Agarkar</td>\n      <td>1</td>\n      <td>0</td>\n      <td>1</td>\n      <td>...</td>\n      <td>Royal Challengers Bangalore</td>\n      <td>Kolkata Knight Riders</td>\n      <td>Kolkata Knight Riders</td>\n      <td>runs</td>\n      <td>140</td>\n      <td>222</td>\n      <td>1</td>\n      <td>222</td>\n      <td>81</td>\n      <td>10</td>\n    </tr>\n    <tr>\n      <th>123</th>\n      <td>335982</td>\n      <td>2</td>\n      <td>6</td>\n      <td>4</td>\n      <td>MV Boucher</td>\n      <td>CL White</td>\n      <td>AB Agarkar</td>\n      <td>0</td>\n      <td>1</td>\n      <td>1</td>\n      <td>...</td>\n      <td>Royal Challengers Bangalore</td>\n      <td>Kolkata Knight Riders</td>\n      <td>Kolkata Knight Riders</td>\n      <td>runs</td>\n      <td>140</td>\n      <td>222</td>\n      <td>2</td>\n      <td>221</td>\n      <td>80</td>\n      <td>10</td>\n    </tr>\n    <tr>\n      <th>124</th>\n      <td>335982</td>\n      <td>2</td>\n      <td>6</td>\n      <td>5</td>\n      <td>MV Boucher</td>\n      <td>CL White</td>\n      <td>AB Agarkar</td>\n      <td>0</td>\n      <td>1</td>\n      <td>1</td>\n      <td>...</td>\n      <td>Royal Challengers Bangalore</td>\n      <td>Kolkata Knight Riders</td>\n      <td>Kolkata Knight Riders</td>\n      <td>runs</td>\n      <td>140</td>\n      <td>222</td>\n      <td>3</td>\n      <td>220</td>\n      <td>79</td>\n      <td>10</td>\n    </tr>\n    <tr>\n      <th>125</th>\n      <td>335982</td>\n      <td>2</td>\n      <td>6</td>\n      <td>6</td>\n      <td>MV Boucher</td>\n      <td>CL White</td>\n      <td>AB Agarkar</td>\n      <td>0</td>\n      <td>0</td>\n      <td>0</td>\n      <td>...</td>\n      <td>Royal Challengers Bangalore</td>\n      <td>Kolkata Knight Riders</td>\n      <td>Kolkata Knight Riders</td>\n      <td>runs</td>\n      <td>140</td>\n      <td>222</td>\n      <td>3</td>\n      <td>220</td>\n      <td>78</td>\n      <td>10</td>\n    </tr>\n    <tr>\n      <th>...</th>\n      <td>...</td>\n      <td>...</td>\n      <td>...</td>\n      <td>...</td>\n      <td>...</td>\n      <td>...</td>\n      <td>...</td>\n      <td>...</td>\n      <td>...</td>\n      <td>...</td>\n      <td>...</td>\n      <td>...</td>\n      <td>...</td>\n      <td>...</td>\n      <td>...</td>\n      <td>...</td>\n      <td>...</td>\n      <td>...</td>\n      <td>...</td>\n      <td>...</td>\n      <td>...</td>\n    </tr>\n    <tr>\n      <th>3615</th>\n      <td>336001</td>\n      <td>2</td>\n      <td>18</td>\n      <td>6</td>\n      <td>S Dhawan</td>\n      <td>AB de Villiers</td>\n      <td>JA Morkel</td>\n      <td>2</td>\n      <td>0</td>\n      <td>2</td>\n      <td>...</td>\n      <td>Chennai Super Kings</td>\n      <td>Delhi Daredevils</td>\n      <td>Delhi Daredevils</td>\n      <td>wickets</td>\n      <td>8</td>\n      <td>169</td>\n      <td>162</td>\n      <td>8</td>\n      <td>6</td>\n      <td>8</td>\n    </tr>\n    <tr>\n      <th>3616</th>\n      <td>336001</td>\n      <td>2</td>\n      <td>18</td>\n      <td>7</td>\n      <td>S Dhawan</td>\n      <td>AB de Villiers</td>\n      <td>JA Morkel</td>\n      <td>4</td>\n      <td>0</td>\n      <td>4</td>\n      <td>...</td>\n      <td>Chennai Super Kings</td>\n      <td>Delhi Daredevils</td>\n      <td>Delhi Daredevils</td>\n      <td>wickets</td>\n      <td>8</td>\n      <td>169</td>\n      <td>166</td>\n      <td>4</td>\n      <td>5</td>\n      <td>8</td>\n    </tr>\n    <tr>\n      <th>3617</th>\n      <td>336001</td>\n      <td>2</td>\n      <td>16</td>\n      <td>6</td>\n      <td>AB de Villiers</td>\n      <td>S Dhawan</td>\n      <td>M Muralitharan</td>\n      <td>4</td>\n      <td>0</td>\n      <td>4</td>\n      <td>...</td>\n      <td>Chennai Super Kings</td>\n      <td>Delhi Daredevils</td>\n      <td>Delhi Daredevils</td>\n      <td>wickets</td>\n      <td>8</td>\n      <td>169</td>\n      <td>170</td>\n      <td>0</td>\n      <td>18</td>\n      <td>8</td>\n    </tr>\n    <tr>\n      <th>3618</th>\n      <td>336001</td>\n      <td>2</td>\n      <td>17</td>\n      <td>1</td>\n      <td>S Dhawan</td>\n      <td>AB de Villiers</td>\n      <td>MS Gony</td>\n      <td>1</td>\n      <td>0</td>\n      <td>1</td>\n      <td>...</td>\n      <td>Chennai Super Kings</td>\n      <td>Delhi Daredevils</td>\n      <td>Delhi Daredevils</td>\n      <td>wickets</td>\n      <td>8</td>\n      <td>169</td>\n      <td>171</td>\n      <td>-1</td>\n      <td>17</td>\n      <td>8</td>\n    </tr>\n    <tr>\n      <th>3619</th>\n      <td>336001</td>\n      <td>2</td>\n      <td>16</td>\n      <td>5</td>\n      <td>S Dhawan</td>\n      <td>AB de Villiers</td>\n      <td>M Muralitharan</td>\n      <td>1</td>\n      <td>0</td>\n      <td>1</td>\n      <td>...</td>\n      <td>Chennai Super Kings</td>\n      <td>Delhi Daredevils</td>\n      <td>Delhi Daredevils</td>\n      <td>wickets</td>\n      <td>8</td>\n      <td>169</td>\n      <td>172</td>\n      <td>-2</td>\n      <td>19</td>\n      <td>8</td>\n    </tr>\n  </tbody>\n</table>\n<p>1756 rows × 29 columns</p>\n</div>"
     },
     "execution_count": 26,
     "metadata": {},
     "output_type": "execute_result"
    }
   ],
   "source": [
    "features"
   ],
   "metadata": {
    "collapsed": false,
    "pycharm": {
     "name": "#%%\n"
    }
   }
  },
  {
   "cell_type": "code",
   "execution_count": 27,
   "outputs": [],
   "source": [
    "features['RR']=6*features.runs_tail/features.balls_left"
   ],
   "metadata": {
    "collapsed": false,
    "pycharm": {
     "name": "#%%\n"
    }
   }
  },
  {
   "cell_type": "code",
   "execution_count": 28,
   "outputs": [
    {
     "data": {
      "text/plain": "          id  inning  over  ball         batsman     non_striker  \\\n485   335984       2     8     4        S Dhawan       G Gambhir   \n486   335984       2     8     5        S Dhawan       G Gambhir   \n487   335984       2     8     6       G Gambhir        S Dhawan   \n488   335984       2     9     1       G Gambhir        S Dhawan   \n489   335984       2     9     2       G Gambhir        S Dhawan   \n...      ...     ...   ...   ...             ...             ...   \n3615  336001       2    18     6        S Dhawan  AB de Villiers   \n3616  336001       2    18     7        S Dhawan  AB de Villiers   \n3617  336001       2    16     6  AB de Villiers        S Dhawan   \n3618  336001       2    17     1        S Dhawan  AB de Villiers   \n3619  336001       2    16     5        S Dhawan  AB de Villiers   \n\n              bowler  batsman_runs  extra_runs  total_runs_x  ...  \\\n485         SK Warne             0           0             0  ...   \n486         SK Warne             1           0             1  ...   \n487         SK Warne             1           0             1  ...   \n488        YK Pathan             0           0             0  ...   \n489        YK Pathan             0           1             1  ...   \n...              ...           ...         ...           ...  ...   \n3615       JA Morkel             2           0             2  ...   \n3616       JA Morkel             4           0             4  ...   \n3617  M Muralitharan             4           0             4  ...   \n3618         MS Gony             1           0             1  ...   \n3619  M Muralitharan             1           0             1  ...   \n\n                 team2            winner   result  result_margin total_runs_y  \\\n485   Rajasthan Royals  Delhi Daredevils  wickets              9          129   \n486   Rajasthan Royals  Delhi Daredevils  wickets              9          129   \n487   Rajasthan Royals  Delhi Daredevils  wickets              9          129   \n488   Rajasthan Royals  Delhi Daredevils  wickets              9          129   \n489   Rajasthan Royals  Delhi Daredevils  wickets              9          129   \n...                ...               ...      ...            ...          ...   \n3615  Delhi Daredevils  Delhi Daredevils  wickets              8          169   \n3616  Delhi Daredevils  Delhi Daredevils  wickets              8          169   \n3617  Delhi Daredevils  Delhi Daredevils  wickets              8          169   \n3618  Delhi Daredevils  Delhi Daredevils  wickets              8          169   \n3619  Delhi Daredevils  Delhi Daredevils  wickets              8          169   \n\n     current_score runs_tail balls_left wicket_left         RR  \n485              0       130         68          10  11.470588  \n486              1       129         67          10  11.552239  \n487              2       128         66          10  11.636364  \n488              2       128         65          10  11.815385  \n489              3       127         64          10  11.906250  \n...            ...       ...        ...         ...        ...  \n3615           162         8          6           8   8.000000  \n3616           166         4          5           8   4.800000  \n3617           170         0         18           8   0.000000  \n3618           171        -1         17           8  -0.352941  \n3619           172        -2         19           8  -0.631579  \n\n[910 rows x 30 columns]",
      "text/html": "<div>\n<style scoped>\n    .dataframe tbody tr th:only-of-type {\n        vertical-align: middle;\n    }\n\n    .dataframe tbody tr th {\n        vertical-align: top;\n    }\n\n    .dataframe thead th {\n        text-align: right;\n    }\n</style>\n<table border=\"1\" class=\"dataframe\">\n  <thead>\n    <tr style=\"text-align: right;\">\n      <th></th>\n      <th>id</th>\n      <th>inning</th>\n      <th>over</th>\n      <th>ball</th>\n      <th>batsman</th>\n      <th>non_striker</th>\n      <th>bowler</th>\n      <th>batsman_runs</th>\n      <th>extra_runs</th>\n      <th>total_runs_x</th>\n      <th>...</th>\n      <th>team2</th>\n      <th>winner</th>\n      <th>result</th>\n      <th>result_margin</th>\n      <th>total_runs_y</th>\n      <th>current_score</th>\n      <th>runs_tail</th>\n      <th>balls_left</th>\n      <th>wicket_left</th>\n      <th>RR</th>\n    </tr>\n  </thead>\n  <tbody>\n    <tr>\n      <th>485</th>\n      <td>335984</td>\n      <td>2</td>\n      <td>8</td>\n      <td>4</td>\n      <td>S Dhawan</td>\n      <td>G Gambhir</td>\n      <td>SK Warne</td>\n      <td>0</td>\n      <td>0</td>\n      <td>0</td>\n      <td>...</td>\n      <td>Rajasthan Royals</td>\n      <td>Delhi Daredevils</td>\n      <td>wickets</td>\n      <td>9</td>\n      <td>129</td>\n      <td>0</td>\n      <td>130</td>\n      <td>68</td>\n      <td>10</td>\n      <td>11.470588</td>\n    </tr>\n    <tr>\n      <th>486</th>\n      <td>335984</td>\n      <td>2</td>\n      <td>8</td>\n      <td>5</td>\n      <td>S Dhawan</td>\n      <td>G Gambhir</td>\n      <td>SK Warne</td>\n      <td>1</td>\n      <td>0</td>\n      <td>1</td>\n      <td>...</td>\n      <td>Rajasthan Royals</td>\n      <td>Delhi Daredevils</td>\n      <td>wickets</td>\n      <td>9</td>\n      <td>129</td>\n      <td>1</td>\n      <td>129</td>\n      <td>67</td>\n      <td>10</td>\n      <td>11.552239</td>\n    </tr>\n    <tr>\n      <th>487</th>\n      <td>335984</td>\n      <td>2</td>\n      <td>8</td>\n      <td>6</td>\n      <td>G Gambhir</td>\n      <td>S Dhawan</td>\n      <td>SK Warne</td>\n      <td>1</td>\n      <td>0</td>\n      <td>1</td>\n      <td>...</td>\n      <td>Rajasthan Royals</td>\n      <td>Delhi Daredevils</td>\n      <td>wickets</td>\n      <td>9</td>\n      <td>129</td>\n      <td>2</td>\n      <td>128</td>\n      <td>66</td>\n      <td>10</td>\n      <td>11.636364</td>\n    </tr>\n    <tr>\n      <th>488</th>\n      <td>335984</td>\n      <td>2</td>\n      <td>9</td>\n      <td>1</td>\n      <td>G Gambhir</td>\n      <td>S Dhawan</td>\n      <td>YK Pathan</td>\n      <td>0</td>\n      <td>0</td>\n      <td>0</td>\n      <td>...</td>\n      <td>Rajasthan Royals</td>\n      <td>Delhi Daredevils</td>\n      <td>wickets</td>\n      <td>9</td>\n      <td>129</td>\n      <td>2</td>\n      <td>128</td>\n      <td>65</td>\n      <td>10</td>\n      <td>11.815385</td>\n    </tr>\n    <tr>\n      <th>489</th>\n      <td>335984</td>\n      <td>2</td>\n      <td>9</td>\n      <td>2</td>\n      <td>G Gambhir</td>\n      <td>S Dhawan</td>\n      <td>YK Pathan</td>\n      <td>0</td>\n      <td>1</td>\n      <td>1</td>\n      <td>...</td>\n      <td>Rajasthan Royals</td>\n      <td>Delhi Daredevils</td>\n      <td>wickets</td>\n      <td>9</td>\n      <td>129</td>\n      <td>3</td>\n      <td>127</td>\n      <td>64</td>\n      <td>10</td>\n      <td>11.906250</td>\n    </tr>\n    <tr>\n      <th>...</th>\n      <td>...</td>\n      <td>...</td>\n      <td>...</td>\n      <td>...</td>\n      <td>...</td>\n      <td>...</td>\n      <td>...</td>\n      <td>...</td>\n      <td>...</td>\n      <td>...</td>\n      <td>...</td>\n      <td>...</td>\n      <td>...</td>\n      <td>...</td>\n      <td>...</td>\n      <td>...</td>\n      <td>...</td>\n      <td>...</td>\n      <td>...</td>\n      <td>...</td>\n      <td>...</td>\n    </tr>\n    <tr>\n      <th>3615</th>\n      <td>336001</td>\n      <td>2</td>\n      <td>18</td>\n      <td>6</td>\n      <td>S Dhawan</td>\n      <td>AB de Villiers</td>\n      <td>JA Morkel</td>\n      <td>2</td>\n      <td>0</td>\n      <td>2</td>\n      <td>...</td>\n      <td>Delhi Daredevils</td>\n      <td>Delhi Daredevils</td>\n      <td>wickets</td>\n      <td>8</td>\n      <td>169</td>\n      <td>162</td>\n      <td>8</td>\n      <td>6</td>\n      <td>8</td>\n      <td>8.000000</td>\n    </tr>\n    <tr>\n      <th>3616</th>\n      <td>336001</td>\n      <td>2</td>\n      <td>18</td>\n      <td>7</td>\n      <td>S Dhawan</td>\n      <td>AB de Villiers</td>\n      <td>JA Morkel</td>\n      <td>4</td>\n      <td>0</td>\n      <td>4</td>\n      <td>...</td>\n      <td>Delhi Daredevils</td>\n      <td>Delhi Daredevils</td>\n      <td>wickets</td>\n      <td>8</td>\n      <td>169</td>\n      <td>166</td>\n      <td>4</td>\n      <td>5</td>\n      <td>8</td>\n      <td>4.800000</td>\n    </tr>\n    <tr>\n      <th>3617</th>\n      <td>336001</td>\n      <td>2</td>\n      <td>16</td>\n      <td>6</td>\n      <td>AB de Villiers</td>\n      <td>S Dhawan</td>\n      <td>M Muralitharan</td>\n      <td>4</td>\n      <td>0</td>\n      <td>4</td>\n      <td>...</td>\n      <td>Delhi Daredevils</td>\n      <td>Delhi Daredevils</td>\n      <td>wickets</td>\n      <td>8</td>\n      <td>169</td>\n      <td>170</td>\n      <td>0</td>\n      <td>18</td>\n      <td>8</td>\n      <td>0.000000</td>\n    </tr>\n    <tr>\n      <th>3618</th>\n      <td>336001</td>\n      <td>2</td>\n      <td>17</td>\n      <td>1</td>\n      <td>S Dhawan</td>\n      <td>AB de Villiers</td>\n      <td>MS Gony</td>\n      <td>1</td>\n      <td>0</td>\n      <td>1</td>\n      <td>...</td>\n      <td>Delhi Daredevils</td>\n      <td>Delhi Daredevils</td>\n      <td>wickets</td>\n      <td>8</td>\n      <td>169</td>\n      <td>171</td>\n      <td>-1</td>\n      <td>17</td>\n      <td>8</td>\n      <td>-0.352941</td>\n    </tr>\n    <tr>\n      <th>3619</th>\n      <td>336001</td>\n      <td>2</td>\n      <td>16</td>\n      <td>5</td>\n      <td>S Dhawan</td>\n      <td>AB de Villiers</td>\n      <td>M Muralitharan</td>\n      <td>1</td>\n      <td>0</td>\n      <td>1</td>\n      <td>...</td>\n      <td>Delhi Daredevils</td>\n      <td>Delhi Daredevils</td>\n      <td>wickets</td>\n      <td>8</td>\n      <td>169</td>\n      <td>172</td>\n      <td>-2</td>\n      <td>19</td>\n      <td>8</td>\n      <td>-0.631579</td>\n    </tr>\n  </tbody>\n</table>\n<p>910 rows × 30 columns</p>\n</div>"
     },
     "execution_count": 28,
     "metadata": {},
     "output_type": "execute_result"
    }
   ],
   "source": [
    "features[features.batting_team == features.winner]"
   ],
   "metadata": {
    "collapsed": false,
    "pycharm": {
     "name": "#%%\n"
    }
   }
  },
  {
   "cell_type": "code",
   "execution_count": 29,
   "outputs": [],
   "source": [
    "def result(input):\n",
    "    if input['batting_team'] == input['winner']:\n",
    "        return  1\n",
    "    else:\n",
    "        return 0"
   ],
   "metadata": {
    "collapsed": false,
    "pycharm": {
     "name": "#%%\n"
    }
   }
  },
  {
   "cell_type": "code",
   "execution_count": 30,
   "outputs": [],
   "source": [
    "features['result']= features.apply(result,axis=1)"
   ],
   "metadata": {
    "collapsed": false,
    "pycharm": {
     "name": "#%%\n"
    }
   }
  },
  {
   "cell_type": "code",
   "execution_count": 31,
   "outputs": [
    {
     "data": {
      "text/plain": "         id  inning  over  ball   batsman non_striker      bowler  \\\n121  335982       2     6     2  CL White  MV Boucher  AB Agarkar   \n122  335982       2     6     3  CL White  MV Boucher  AB Agarkar   \n\n     batsman_runs  extra_runs  total_runs_x  ...                  team2  \\\n121             0           0             0  ...  Kolkata Knight Riders   \n122             1           0             1  ...  Kolkata Knight Riders   \n\n                    winner result  result_margin total_runs_y current_score  \\\n121  Kolkata Knight Riders      0            140          222             0   \n122  Kolkata Knight Riders      0            140          222             1   \n\n    runs_tail balls_left wicket_left         RR  \n121       223         82          10  16.317073  \n122       222         81          10  16.444444  \n\n[2 rows x 30 columns]",
      "text/html": "<div>\n<style scoped>\n    .dataframe tbody tr th:only-of-type {\n        vertical-align: middle;\n    }\n\n    .dataframe tbody tr th {\n        vertical-align: top;\n    }\n\n    .dataframe thead th {\n        text-align: right;\n    }\n</style>\n<table border=\"1\" class=\"dataframe\">\n  <thead>\n    <tr style=\"text-align: right;\">\n      <th></th>\n      <th>id</th>\n      <th>inning</th>\n      <th>over</th>\n      <th>ball</th>\n      <th>batsman</th>\n      <th>non_striker</th>\n      <th>bowler</th>\n      <th>batsman_runs</th>\n      <th>extra_runs</th>\n      <th>total_runs_x</th>\n      <th>...</th>\n      <th>team2</th>\n      <th>winner</th>\n      <th>result</th>\n      <th>result_margin</th>\n      <th>total_runs_y</th>\n      <th>current_score</th>\n      <th>runs_tail</th>\n      <th>balls_left</th>\n      <th>wicket_left</th>\n      <th>RR</th>\n    </tr>\n  </thead>\n  <tbody>\n    <tr>\n      <th>121</th>\n      <td>335982</td>\n      <td>2</td>\n      <td>6</td>\n      <td>2</td>\n      <td>CL White</td>\n      <td>MV Boucher</td>\n      <td>AB Agarkar</td>\n      <td>0</td>\n      <td>0</td>\n      <td>0</td>\n      <td>...</td>\n      <td>Kolkata Knight Riders</td>\n      <td>Kolkata Knight Riders</td>\n      <td>0</td>\n      <td>140</td>\n      <td>222</td>\n      <td>0</td>\n      <td>223</td>\n      <td>82</td>\n      <td>10</td>\n      <td>16.317073</td>\n    </tr>\n    <tr>\n      <th>122</th>\n      <td>335982</td>\n      <td>2</td>\n      <td>6</td>\n      <td>3</td>\n      <td>CL White</td>\n      <td>MV Boucher</td>\n      <td>AB Agarkar</td>\n      <td>1</td>\n      <td>0</td>\n      <td>1</td>\n      <td>...</td>\n      <td>Kolkata Knight Riders</td>\n      <td>Kolkata Knight Riders</td>\n      <td>0</td>\n      <td>140</td>\n      <td>222</td>\n      <td>1</td>\n      <td>222</td>\n      <td>81</td>\n      <td>10</td>\n      <td>16.444444</td>\n    </tr>\n  </tbody>\n</table>\n<p>2 rows × 30 columns</p>\n</div>"
     },
     "execution_count": 31,
     "metadata": {},
     "output_type": "execute_result"
    }
   ],
   "source": [
    "features.head(2)"
   ],
   "metadata": {
    "collapsed": false,
    "pycharm": {
     "name": "#%%\n"
    }
   }
  },
  {
   "cell_type": "code",
   "execution_count": 32,
   "outputs": [],
   "source": [
    "features = features[['batting_team','bowling_team','city','runs_tail','balls_left','wicket_left','RR','result']]"
   ],
   "metadata": {
    "collapsed": false,
    "pycharm": {
     "name": "#%%\n"
    }
   }
  },
  {
   "cell_type": "code",
   "execution_count": 33,
   "outputs": [
    {
     "data": {
      "text/plain": "                    batting_team           bowling_team       city  runs_tail  \\\n121  Royal Challengers Bangalore  Kolkata Knight Riders  Bangalore        223   \n122  Royal Challengers Bangalore  Kolkata Knight Riders  Bangalore        222   \n\n     balls_left  wicket_left         RR  result  \n121          82           10  16.317073       0  \n122          81           10  16.444444       0  ",
      "text/html": "<div>\n<style scoped>\n    .dataframe tbody tr th:only-of-type {\n        vertical-align: middle;\n    }\n\n    .dataframe tbody tr th {\n        vertical-align: top;\n    }\n\n    .dataframe thead th {\n        text-align: right;\n    }\n</style>\n<table border=\"1\" class=\"dataframe\">\n  <thead>\n    <tr style=\"text-align: right;\">\n      <th></th>\n      <th>batting_team</th>\n      <th>bowling_team</th>\n      <th>city</th>\n      <th>runs_tail</th>\n      <th>balls_left</th>\n      <th>wicket_left</th>\n      <th>RR</th>\n      <th>result</th>\n    </tr>\n  </thead>\n  <tbody>\n    <tr>\n      <th>121</th>\n      <td>Royal Challengers Bangalore</td>\n      <td>Kolkata Knight Riders</td>\n      <td>Bangalore</td>\n      <td>223</td>\n      <td>82</td>\n      <td>10</td>\n      <td>16.317073</td>\n      <td>0</td>\n    </tr>\n    <tr>\n      <th>122</th>\n      <td>Royal Challengers Bangalore</td>\n      <td>Kolkata Knight Riders</td>\n      <td>Bangalore</td>\n      <td>222</td>\n      <td>81</td>\n      <td>10</td>\n      <td>16.444444</td>\n      <td>0</td>\n    </tr>\n  </tbody>\n</table>\n</div>"
     },
     "execution_count": 33,
     "metadata": {},
     "output_type": "execute_result"
    }
   ],
   "source": [
    "features.head(2)"
   ],
   "metadata": {
    "collapsed": false,
    "pycharm": {
     "name": "#%%\n"
    }
   }
  },
  {
   "cell_type": "code",
   "execution_count": 34,
   "outputs": [],
   "source": [
    "features = features[features.balls_left != 0]"
   ],
   "metadata": {
    "collapsed": false,
    "pycharm": {
     "name": "#%%\n"
    }
   }
  },
  {
   "cell_type": "code",
   "execution_count": 35,
   "outputs": [
    {
     "data": {
      "text/plain": "(1752, 8)"
     },
     "execution_count": 35,
     "metadata": {},
     "output_type": "execute_result"
    }
   ],
   "source": [
    "features = features.sample(features.shape[0])\n",
    "features.shape"
   ],
   "metadata": {
    "collapsed": false,
    "pycharm": {
     "name": "#%%\n"
    }
   }
  },
  {
   "cell_type": "code",
   "execution_count": 36,
   "outputs": [],
   "source": [
    "features = features.dropna()"
   ],
   "metadata": {
    "collapsed": false,
    "pycharm": {
     "name": "#%%\n"
    }
   }
  },
  {
   "cell_type": "code",
   "execution_count": 37,
   "outputs": [
    {
     "data": {
      "text/plain": "(                     batting_team           bowling_team       city  \\\n 1388               Mumbai Indians    Chennai Super Kings    Chennai   \n 2025          Chennai Super Kings  Kolkata Knight Riders    Chennai   \n 1418               Mumbai Indians    Chennai Super Kings    Chennai   \n 3121  Royal Challengers Bangalore       Delhi Daredevils      Delhi   \n 166   Royal Challengers Bangalore  Kolkata Knight Riders  Bangalore   \n \n       runs_tail  balls_left  wicket_left          RR  \n 1388         94           2            6  282.000000  \n 2025        113          91           10    7.450549  \n 1418         36          52            4    4.153846  \n 3121         19           2            5   57.000000  \n 166         180          42            6   25.714286  ,\n 1388    0\n 2025    1\n 1418    0\n 3121    0\n 166     0\n Name: result, dtype: int64)"
     },
     "execution_count": 37,
     "metadata": {},
     "output_type": "execute_result"
    }
   ],
   "source": [
    "x = features.iloc[:,:-1]\n",
    "y = features.iloc[:,-1]\n",
    "x.head(),y.head()"
   ],
   "metadata": {
    "collapsed": false,
    "pycharm": {
     "name": "#%%\n"
    }
   }
  },
  {
   "cell_type": "code",
   "execution_count": 38,
   "outputs": [
    {
     "data": {
      "text/plain": "((1401, 7), (1401,))"
     },
     "execution_count": 38,
     "metadata": {},
     "output_type": "execute_result"
    }
   ],
   "source": [
    "from sklearn.model_selection import train_test_split\n",
    "\n",
    "x_train,x_test,y_train,y_test = train_test_split(x,y,test_size=0.2,random_state=0)\n",
    "\n",
    "x_train.shape, y_train.shape\n"
   ],
   "metadata": {
    "collapsed": false,
    "pycharm": {
     "name": "#%%\n"
    }
   }
  },
  {
   "cell_type": "code",
   "execution_count": 39,
   "outputs": [],
   "source": [
    "from sklearn.compose import ColumnTransformer\n",
    "from sklearn.preprocessing import OneHotEncoder\n",
    "\n",
    "trf = ColumnTransformer([('trf',OneHotEncoder(sparse=False,drop='first'),['batting_team','bowling_team','city'])],remainder='passthrough')\n",
    "\n",
    "\n"
   ],
   "metadata": {
    "collapsed": false,
    "pycharm": {
     "name": "#%%\n"
    }
   }
  },
  {
   "cell_type": "code",
   "execution_count": 40,
   "outputs": [],
   "source": [
    "from sklearn.pipeline import Pipeline\n",
    "from sklearn.linear_model import LogisticRegression\n",
    "\n",
    "pip = Pipeline(steps=[('step1',trf),('step2',LogisticRegression(solver='liblinear'))])\n"
   ],
   "metadata": {
    "collapsed": false,
    "pycharm": {
     "name": "#%%\n"
    }
   }
  },
  {
   "cell_type": "code",
   "execution_count": 41,
   "outputs": [
    {
     "data": {
      "text/plain": "Pipeline(steps=[('step1',\n                 ColumnTransformer(remainder='passthrough',\n                                   transformers=[('trf',\n                                                  OneHotEncoder(drop='first',\n                                                                sparse=False),\n                                                  ['batting_team',\n                                                   'bowling_team', 'city'])])),\n                ('step2', LogisticRegression(solver='liblinear'))])"
     },
     "execution_count": 41,
     "metadata": {},
     "output_type": "execute_result"
    }
   ],
   "source": [
    "pip.fit(x_train,y_train)"
   ],
   "metadata": {
    "collapsed": false,
    "pycharm": {
     "name": "#%%\n"
    }
   }
  },
  {
   "cell_type": "code",
   "execution_count": 42,
   "outputs": [],
   "source": [
    "y_pred = pip.predict(x_test)"
   ],
   "metadata": {
    "collapsed": false,
    "pycharm": {
     "name": "#%%\n"
    }
   }
  },
  {
   "cell_type": "code",
   "execution_count": 43,
   "outputs": [
    {
     "data": {
      "text/plain": "1.0"
     },
     "execution_count": 43,
     "metadata": {},
     "output_type": "execute_result"
    }
   ],
   "source": [
    "from sklearn.metrics import accuracy_score\n",
    "accuracy_score(y_test,y_pred)"
   ],
   "metadata": {
    "collapsed": false,
    "pycharm": {
     "name": "#%%\n"
    }
   }
  },
  {
   "cell_type": "code",
   "execution_count": 44,
   "outputs": [
    {
     "data": {
      "text/plain": "array([[5.31206233e-03, 9.94687938e-01],\n       [7.99374376e-03, 9.92006256e-01],\n       [9.96790011e-01, 3.20998903e-03],\n       [8.45146951e-04, 9.99154853e-01],\n       [9.83371033e-01, 1.66289665e-02],\n       [9.98567108e-01, 1.43289161e-03],\n       [9.18683788e-03, 9.90813162e-01],\n       [9.77609369e-01, 2.23906307e-02],\n       [6.00413301e-03, 9.93995867e-01],\n       [9.90732778e-01, 9.26722182e-03]])"
     },
     "execution_count": 44,
     "metadata": {},
     "output_type": "execute_result"
    }
   ],
   "source": [
    "pip.predict_proba(x_test)[:10]"
   ],
   "metadata": {
    "collapsed": false,
    "pycharm": {
     "name": "#%%\n"
    }
   }
  },
  {
   "cell_type": "code",
   "execution_count": 45,
   "outputs": [
    {
     "ename": "IndentationError",
     "evalue": "expected an indented block (857183200.py, line 1)",
     "output_type": "error",
     "traceback": [
      "\u001B[1;36m  Input \u001B[1;32mIn [45]\u001B[1;36m\u001B[0m\n\u001B[1;33m    def match_prog(x_df,match_id,pipe):\u001B[0m\n\u001B[1;37m                                       ^\u001B[0m\n\u001B[1;31mIndentationError\u001B[0m\u001B[1;31m:\u001B[0m expected an indented block\n"
     ]
    }
   ],
   "source": [
    "def match_prog(x_df,match_id,pipe):\n",
    "    match = x_df[x_df['id'] == match_id]\n",
    "    match = match[(match['ball']==6)]\n",
    "    "
   ],
   "metadata": {
    "collapsed": false,
    "pycharm": {
     "name": "#%%\n"
    }
   }
  }
 ],
 "metadata": {
  "kernelspec": {
   "display_name": "Python 3",
   "language": "python",
   "name": "python3"
  },
  "language_info": {
   "codemirror_mode": {
    "name": "ipython",
    "version": 2
   },
   "file_extension": ".py",
   "mimetype": "text/x-python",
   "name": "python",
   "nbconvert_exporter": "python",
   "pygments_lexer": "ipython2",
   "version": "2.7.6"
  }
 },
 "nbformat": 4,
 "nbformat_minor": 0
}